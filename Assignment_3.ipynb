{
 "cells": [
  {
   "cell_type": "markdown",
   "id": "cf760d05",
   "metadata": {},
   "source": [
    "### 1. Why are functions advantageous to have in your programs?\n",
    "Ans: Functions take an advantage of code reusability.\n",
    "     It makes the coding, reading easy\n",
    "     It will execute when the function is called not when the function is defined."
   ]
  },
  {
   "cell_type": "markdown",
   "id": "0c58b3a3",
   "metadata": {},
   "source": [
    "### 2. When does the code in a function run: when it&#39;s specified or when it&#39;s called?\n",
    "When the function is called, it will run"
   ]
  },
  {
   "cell_type": "markdown",
   "id": "c901dcd3",
   "metadata": {},
   "source": [
    "### 3. What statement creates a function?\n",
    "Def statement is used to create a function"
   ]
  },
  {
   "cell_type": "markdown",
   "id": "bfa61e62",
   "metadata": {},
   "source": [
    "### 4. What is the difference between a function and a function call?\n",
    "A Function is a process to acheive a particular result and the funciton call is using the function to achieve the task"
   ]
  },
  {
   "cell_type": "markdown",
   "id": "b6ca6b27",
   "metadata": {},
   "source": [
    "### 5. How many global scopes are there in a Python program? How many local scopes?\n",
    "Global scope is only one where the scope of the variables defined in the body of the program and are available through out.\n",
    "Local scopes are two. Local scope are for the variables created in a loop or in any Lambda function and the scope of those are with in that function or loop.\n",
    "Enclosed loop are for the varibales created in a nested loops."
   ]
  },
  {
   "cell_type": "markdown",
   "id": "61057f7c",
   "metadata": {},
   "source": [
    "### 6. What happens to variables in a local scope when the function call returns?\n",
    "When the function call returns, the local variables created in that function will become inaccessible outside of it."
   ]
  },
  {
   "cell_type": "markdown",
   "id": "10eaa0f7",
   "metadata": {},
   "source": [
    "### 7. What is the concept of a return value? Is it possible to have a return value in an expression?\n",
    "The concept of return value is when the expected expression value is obtained from a function we can use return keyword using that expression and can bail out from that function and the statements after that return statement won't be executed"
   ]
  },
  {
   "cell_type": "markdown",
   "id": "3411ce85",
   "metadata": {},
   "source": [
    "### 8. If a function does not have a return statement, what is the return value of a call to that function?\n",
    "None"
   ]
  },
  {
   "cell_type": "markdown",
   "id": "07265a1d",
   "metadata": {},
   "source": [
    "### 9. How do you make a function variable refer to the global variable?\n",
    "You no need to worry. YOu can directly refer to the global variable inside a funtion"
   ]
  },
  {
   "cell_type": "code",
   "execution_count": 1,
   "id": "3a28eb5d",
   "metadata": {},
   "outputs": [
    {
     "data": {
      "text/plain": [
       "10"
      ]
     },
     "execution_count": 1,
     "metadata": {},
     "output_type": "execute_result"
    }
   ],
   "source": [
    "c=5\n",
    "def fun(a,b):\n",
    "    return a+b+c\n",
    "fun(2,3)"
   ]
  },
  {
   "cell_type": "markdown",
   "id": "56132773",
   "metadata": {},
   "source": [
    "### 10. What is the data type of None?\n",
    "NoneType"
   ]
  },
  {
   "cell_type": "markdown",
   "id": "c56b5987",
   "metadata": {},
   "source": [
    "### 11. What does the sentence import areallyourpetsnamederic do?\n",
    "doesn't exist in Python"
   ]
  },
  {
   "cell_type": "code",
   "execution_count": 2,
   "id": "edcbf5e7",
   "metadata": {},
   "outputs": [
    {
     "name": "stderr",
     "output_type": "stream",
     "text": [
      "ERROR: Could not find a version that satisfies the requirement areallyourpetsnamederic (from versions: none)\n",
      "ERROR: No matching distribution found for areallyourpetsnamederic\n"
     ]
    }
   ],
   "source": [
    "!pip install areallyourpetsnamederic"
   ]
  },
  {
   "cell_type": "markdown",
   "id": "a7cf9b3b",
   "metadata": {},
   "source": [
    "### 12. If you had a bacon() feature in a spam module, what would you call it after importing spam?\n",
    "spam.bacon()"
   ]
  },
  {
   "cell_type": "markdown",
   "id": "ad092205",
   "metadata": {},
   "source": [
    "### 13. What can you do to save a programme from crashing if it encounters an error?\n",
    "By using exception handling"
   ]
  },
  {
   "cell_type": "markdown",
   "id": "3e151d0e",
   "metadata": {},
   "source": [
    "### 14. What is the purpose of the try clause? What is the purpose of the except clause?\n",
    "to save a programme from crashing if it encounters an error"
   ]
  },
  {
   "cell_type": "code",
   "execution_count": null,
   "id": "41dca8ed",
   "metadata": {},
   "outputs": [],
   "source": []
  }
 ],
 "metadata": {
  "kernelspec": {
   "display_name": "Python 3 (ipykernel)",
   "language": "python",
   "name": "python3"
  },
  "language_info": {
   "codemirror_mode": {
    "name": "ipython",
    "version": 3
   },
   "file_extension": ".py",
   "mimetype": "text/x-python",
   "name": "python",
   "nbconvert_exporter": "python",
   "pygments_lexer": "ipython3",
   "version": "3.9.7"
  }
 },
 "nbformat": 4,
 "nbformat_minor": 5
}
