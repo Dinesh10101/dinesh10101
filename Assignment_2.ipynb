{
 "cells": [
  {
   "cell_type": "markdown",
   "id": "a9a629ce",
   "metadata": {},
   "source": [
    "### 1.What are the two values of the Boolean data type? How do you write them?\n",
    "Ans: True and False"
   ]
  },
  {
   "cell_type": "markdown",
   "id": "49e0c950",
   "metadata": {},
   "source": [
    "### 2. What are the three different types of Boolean operators?\n",
    "Ans: AND, OR, NOT"
   ]
  },
  {
   "cell_type": "markdown",
   "id": "09b7c2fb",
   "metadata": {},
   "source": [
    "### 3. Make a list of each Boolean operator's truth tables (i.e. every possible combination of Boolean values for the operator and what it evaluate ).\n",
    "AND:\n",
    "\n",
    "TRUE and TRUE == TRUE; \n",
    "TRUE and FALSE == False; \n",
    "FALSE and TRUE == FALSE; \n",
    "FALSE and FALSE == FALSE; \n",
    "\n",
    "OR:\n",
    "TRUE or TRUE == TRUE; \n",
    "TRUE or FALSE == TRUE; \n",
    "FALSE or TRUE == TRUE; \n",
    "FALSE or FALSE == FALSE"
   ]
  },
  {
   "cell_type": "markdown",
   "id": "9bc4c3c6",
   "metadata": {},
   "source": [
    "### 4. What are the values of the following expressions?\n",
    "(5 > 4) and (3 == 5) = FALSE;   \n",
    "not (5 > 4) = FALSE;   \n",
    "(5 > 4) or (3 == 5) = TRUE;   \n",
    "not ((5 > 4) or (3 == 5)) = FALSE;   \n",
    "(True and True) and (True == False) = FALSE;   \n",
    "(not False) or (not True) = TRUE\n"
   ]
  },
  {
   "cell_type": "markdown",
   "id": "3d96c407",
   "metadata": {},
   "source": [
    "### 5. What are the six comparison operators?\n",
    "==\n",
    "\n",
    "!=\n",
    "\n",
    "greater than\n",
    "\n",
    "<\n",
    "\n",
    "=>\n",
    "\n",
    "<="
   ]
  },
  {
   "cell_type": "markdown",
   "id": "9c35c50d",
   "metadata": {},
   "source": [
    "### 6. How do you tell the difference between the equal to and assignment operators?Describe a condition and when you would use one.\n",
    "assignment operator is denoted by =(a=3)\n",
    "\n",
    "equal to operator is denoted by ==( if a==3 )"
   ]
  },
  {
   "cell_type": "code",
   "execution_count": 2,
   "id": "23e02138",
   "metadata": {},
   "outputs": [
    {
     "name": "stdout",
     "output_type": "stream",
     "text": [
      "ham\n",
      "spam\n",
      "spam\n"
     ]
    }
   ],
   "source": [
    "#7. Identify the three blocks in this code:\n",
    "spam = 0\n",
    "if spam == 10:\n",
    "    print('eggs')\n",
    "if spam > 5:\n",
    "    print('bacon')\n",
    "else:\n",
    "    print('ham')\n",
    "    print('spam')\n",
    "    print('spam')\n"
   ]
  },
  {
   "cell_type": "code",
   "execution_count": 3,
   "id": "5b4dd8b6",
   "metadata": {},
   "outputs": [
    {
     "name": "stdout",
     "output_type": "stream",
     "text": [
      "Greetings!\n"
     ]
    }
   ],
   "source": [
    "#8. Write code that prints Hello if 1 is stored in spam, prints Howdy if 2 is stored in spam, and prints Greetings! if anything\n",
    "#else is stored in spam.\n",
    "spam=0\n",
    "if spam == 1:\n",
    "    print('Hello')\n",
    "elif spam == 2:\n",
    "    print('Howdy')\n",
    "else:\n",
    "    print(\"Greetings!\")\n"
   ]
  },
  {
   "cell_type": "markdown",
   "id": "c1dfd298",
   "metadata": {},
   "source": [
    "### 9.If your programme is stuck in an endless loop, what keys you’ll press?\n",
    "Under Kernel, you'll have Interrupt, Restart, shutdown options"
   ]
  },
  {
   "cell_type": "markdown",
   "id": "55c9f455",
   "metadata": {},
   "source": [
    "### 10. How can you tell the difference between break and continue?\n",
    "break and continue helps to alter the sequence of the loops:\n",
    "if break is used in a for loop with five iterations under a if condition, then if condition is satisfied at the third ieration, then the break will be executed and from right there the for loop will be terminated\n",
    "\n",
    "if continue is used in a for loop with five iterations under a if condition, then if condition is satisfied at the third ieration, then the continue will be executed and from right there the control goes to the next iteration"
   ]
  },
  {
   "cell_type": "markdown",
   "id": "bafeea70",
   "metadata": {},
   "source": [
    "### 11. In a for loop, what is the difference between range(10), range(0, 10), and range(0, 10, 1)?\n",
    "\n",
    "all the above are equal and the for loop will be iterated with an index of [0,1,2,3,4,5,6,7,8,9]"
   ]
  },
  {
   "cell_type": "code",
   "execution_count": 8,
   "id": "eaed1762",
   "metadata": {},
   "outputs": [
    {
     "name": "stdout",
     "output_type": "stream",
     "text": [
      "For Loop\n",
      "1\n",
      "2\n",
      "3\n",
      "4\n",
      "5\n",
      "6\n",
      "7\n",
      "8\n",
      "9\n",
      "10\n",
      "While loop\n",
      "1\n",
      "2\n",
      "3\n",
      "4\n",
      "5\n",
      "6\n",
      "7\n",
      "8\n",
      "9\n",
      "10\n"
     ]
    }
   ],
   "source": [
    "#12. Write a short program that prints the numbers 1 to 10 using a for loop. Then write an equivalent program that prints the\n",
    "#numbers 1 to 10 using a while loop.\n",
    "print(\"For Loop\")\n",
    "for i in range(1,11):\n",
    "    print(i)\n",
    "    \n",
    "print(\"While loop\")\n",
    "i=1\n",
    "while i<=10:\n",
    "    print(i)\n",
    "    i+=1"
   ]
  },
  {
   "cell_type": "markdown",
   "id": "9a471232",
   "metadata": {},
   "source": [
    "### 13. If you had a function named bacon() inside a module named spam, how would you call it after importing spam?\n",
    "spam.bacon()"
   ]
  },
  {
   "cell_type": "code",
   "execution_count": null,
   "id": "255afc5d",
   "metadata": {},
   "outputs": [],
   "source": []
  }
 ],
 "metadata": {
  "kernelspec": {
   "display_name": "Python 3 (ipykernel)",
   "language": "python",
   "name": "python3"
  },
  "language_info": {
   "codemirror_mode": {
    "name": "ipython",
    "version": 3
   },
   "file_extension": ".py",
   "mimetype": "text/x-python",
   "name": "python",
   "nbconvert_exporter": "python",
   "pygments_lexer": "ipython3",
   "version": "3.9.7"
  }
 },
 "nbformat": 4,
 "nbformat_minor": 5
}
