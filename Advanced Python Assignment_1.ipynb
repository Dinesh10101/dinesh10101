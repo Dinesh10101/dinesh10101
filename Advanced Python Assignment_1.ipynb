{
 "cells": [
  {
   "cell_type": "markdown",
   "id": "f17d995c",
   "metadata": {},
   "source": [
    "### Q1. What is the purpose of Python's OOP?\n",
    "Just like other programming languages, we do have OOP concepts in Python to write a code in a more modular way using classes, objects, Inheritance, Abstraction, Encapsulation"
   ]
  },
  {
   "cell_type": "markdown",
   "id": "f1abef2a",
   "metadata": {},
   "source": [
    "### Q2. Where does an inheritance search look for an attribute?\n",
    "The inheritance search is simply a search of a tree from bottom to top"
   ]
  },
  {
   "cell_type": "code",
   "execution_count": 1,
   "id": "1be6f844",
   "metadata": {},
   "outputs": [],
   "source": [
    "class a:\n",
    "    def __init__(self,a):\n",
    "        self.a=a\n",
    "    def func(self, a):\n",
    "        return self.a"
   ]
  },
  {
   "cell_type": "code",
   "execution_count": 2,
   "id": "fac16b19",
   "metadata": {},
   "outputs": [],
   "source": [
    "class b(a):\n",
    "    def __init__(self,a):\n",
    "        self.a=a\n",
    "    def func(self, a):\n",
    "        return self.a"
   ]
  },
  {
   "cell_type": "code",
   "execution_count": 5,
   "id": "b6cacb5a",
   "metadata": {},
   "outputs": [],
   "source": [
    "obj = a(5)"
   ]
  },
  {
   "cell_type": "code",
   "execution_count": 17,
   "id": "c0e56006",
   "metadata": {},
   "outputs": [
    {
     "data": {
      "text/plain": [
       "5"
      ]
     },
     "execution_count": 17,
     "metadata": {},
     "output_type": "execute_result"
    }
   ],
   "source": [
    "obj.a"
   ]
  },
  {
   "cell_type": "code",
   "execution_count": 7,
   "id": "28aa5cee",
   "metadata": {},
   "outputs": [],
   "source": [
    "obj1=a(6)"
   ]
  },
  {
   "cell_type": "code",
   "execution_count": 8,
   "id": "73e63654",
   "metadata": {},
   "outputs": [
    {
     "data": {
      "text/plain": [
       "6"
      ]
     },
     "execution_count": 8,
     "metadata": {},
     "output_type": "execute_result"
    }
   ],
   "source": [
    "obj1.a"
   ]
  },
  {
   "cell_type": "markdown",
   "id": "30de5221",
   "metadata": {},
   "source": [
    "### Q3. How do you distinguish between a class object and an instance object?\n",
    "class is a blueprint of the variable and methods to be initialized when an object is created. Memory will not get allocated at the time of class execution. Memory will be allocated for the variables when an object to a class is created.\n",
    "\n",
    "An Instance object is inherited from an object where object holds the real values of its variables. However instance object will hold the memory locations."
   ]
  },
  {
   "cell_type": "markdown",
   "id": "1c0d98dc",
   "metadata": {},
   "source": [
    "### Q4. What makes the first argument in a class’s method function special?\n",
    "Generally we use self in a class methods which acts as a pointer to itself to allocate the values received from an object arguments created "
   ]
  },
  {
   "cell_type": "markdown",
   "id": "f1d1263d",
   "metadata": {},
   "source": [
    "### Q5. What is the purpose of the __init__ method?\n",
    "__init__ is just like a constructor of a class where the purpose of that builtin method is to define the mandatory variables required whenever an object is created for that class."
   ]
  },
  {
   "cell_type": "markdown",
   "id": "bb902d19",
   "metadata": {},
   "source": [
    "### Q6. What is the process for creating a class instance?\n",
    "instance_name = class_name()"
   ]
  },
  {
   "cell_type": "markdown",
   "id": "82dae39f",
   "metadata": {},
   "source": [
    "### Q7. What is the process for creating a class?"
   ]
  },
  {
   "cell_type": "code",
   "execution_count": 18,
   "id": "b3267705",
   "metadata": {},
   "outputs": [],
   "source": [
    "class classname:\n",
    "    def __init__(self, var1, var2):   # optional method and optional variables\n",
    "        self.var1 = var1\n",
    "        self.var2 = var2"
   ]
  },
  {
   "cell_type": "markdown",
   "id": "63e7c77d",
   "metadata": {},
   "source": [
    "### Q8. How would you define the superclasses of a class?\n",
    "super class is the main class where many subclasses can be created."
   ]
  },
  {
   "cell_type": "code",
   "execution_count": null,
   "id": "00aadc12",
   "metadata": {},
   "outputs": [],
   "source": []
  }
 ],
 "metadata": {
  "kernelspec": {
   "display_name": "Python 3 (ipykernel)",
   "language": "python",
   "name": "python3"
  },
  "language_info": {
   "codemirror_mode": {
    "name": "ipython",
    "version": 3
   },
   "file_extension": ".py",
   "mimetype": "text/x-python",
   "name": "python",
   "nbconvert_exporter": "python",
   "pygments_lexer": "ipython3",
   "version": "3.9.7"
  }
 },
 "nbformat": 4,
 "nbformat_minor": 5
}
