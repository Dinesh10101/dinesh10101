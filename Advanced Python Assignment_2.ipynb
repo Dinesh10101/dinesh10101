{
 "cells": [
  {
   "cell_type": "markdown",
   "id": "95e37ffa",
   "metadata": {},
   "source": [
    "### Q1. What is the relationship between classes and modules?\n",
    "The difference between a class and a module in python is that a class is used to define a blueprint for a given object, whereas a module is used to reuse a given piece of code inside another program."
   ]
  },
  {
   "cell_type": "markdown",
   "id": "270c5270",
   "metadata": {},
   "source": [
    "### Q2. How do you make instances and classes?"
   ]
  },
  {
   "cell_type": "code",
   "execution_count": 19,
   "id": "7a54fbe9",
   "metadata": {},
   "outputs": [],
   "source": [
    "class a:  #class creation\n",
    "    pass"
   ]
  },
  {
   "cell_type": "code",
   "execution_count": 20,
   "id": "5305f1f1",
   "metadata": {},
   "outputs": [],
   "source": [
    "instance = a() # instance creation"
   ]
  },
  {
   "cell_type": "markdown",
   "id": "781f635a",
   "metadata": {},
   "source": [
    "### Q3. Where and how should be class attributes created?\n",
    "class attributes are created inside a class but outside all the methods"
   ]
  },
  {
   "cell_type": "markdown",
   "id": "53c23ffc",
   "metadata": {},
   "source": [
    "### Q4. Where and how are instance attributes created?\n",
    "Instance attributes are created inside the __init__ method"
   ]
  },
  {
   "cell_type": "markdown",
   "id": "8429bd0b",
   "metadata": {},
   "source": [
    "### Q5. What does the term \"self\" in a Python class mean?\n",
    "Generally we use self in a class methods which acts as a pointer to itself to allocate the values received from an object arguments created"
   ]
  },
  {
   "cell_type": "markdown",
   "id": "d946a615",
   "metadata": {},
   "source": [
    "### Q6. How does a Python class handle operator overloading?\n",
    "We can overload all existing operators but we can't create a new operator. To perform operator overloading, Python provides some special function or magic function that is automatically invoked when it is associated with that particular operator.\n"
   ]
  },
  {
   "cell_type": "markdown",
   "id": "61729163",
   "metadata": {},
   "source": [
    "### Q7. What is the most popular form of operator overloading?\n",
    "By using the special function or magic function"
   ]
  },
  {
   "cell_type": "markdown",
   "id": "4e5b8a2b",
   "metadata": {},
   "source": [
    "### Q8. What are the two most important concepts to grasp in order to comprehend Python OOP code?\n",
    "Polymorphism and Inheritance"
   ]
  },
  {
   "cell_type": "code",
   "execution_count": null,
   "id": "18e9819e",
   "metadata": {},
   "outputs": [],
   "source": []
  }
 ],
 "metadata": {
  "kernelspec": {
   "display_name": "Python 3 (ipykernel)",
   "language": "python",
   "name": "python3"
  },
  "language_info": {
   "codemirror_mode": {
    "name": "ipython",
    "version": 3
   },
   "file_extension": ".py",
   "mimetype": "text/x-python",
   "name": "python",
   "nbconvert_exporter": "python",
   "pygments_lexer": "ipython3",
   "version": "3.9.7"
  }
 },
 "nbformat": 4,
 "nbformat_minor": 5
}
