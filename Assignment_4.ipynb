{
 "cells": [
  {
   "cell_type": "markdown",
   "id": "16b79146",
   "metadata": {},
   "source": [
    "### 1. What exactly is []?\n",
    "It's used to initiate a list"
   ]
  },
  {
   "cell_type": "markdown",
   "id": "d3d127f1",
   "metadata": {},
   "source": [
    "### 2. In a list of values stored in a variable called spam, how would you assign the value 'hello' as the third value? (Assume [2, 4, 6, 8, 10] are in spam.)"
   ]
  },
  {
   "cell_type": "code",
   "execution_count": 3,
   "id": "338710a4",
   "metadata": {},
   "outputs": [
    {
     "data": {
      "text/plain": [
       "[2, 4, 'hello', 6, 8, 10]"
      ]
     },
     "execution_count": 3,
     "metadata": {},
     "output_type": "execute_result"
    }
   ],
   "source": [
    "spam=[2, 4, 6, 8, 10]\n",
    "spam.insert(2,'hello')\n",
    "spam"
   ]
  },
  {
   "cell_type": "markdown",
   "id": "793b832c",
   "metadata": {},
   "source": [
    "### 3.Let's pretend the spam includes the list ['a', 'b', 'c', 'd'] for the next three queries. What is the value of spam[int(int('3' * 2) / 11)]?"
   ]
  },
  {
   "cell_type": "code",
   "execution_count": 8,
   "id": "62e0fe97",
   "metadata": {},
   "outputs": [
    {
     "data": {
      "text/plain": [
       "'d'"
      ]
     },
     "execution_count": 8,
     "metadata": {},
     "output_type": "execute_result"
    }
   ],
   "source": [
    "spam=['a', 'b', 'c', 'd']\n",
    "spam[int(int('3' * 2) / 11)]\n",
    "spam[3]"
   ]
  },
  {
   "cell_type": "markdown",
   "id": "659c2833",
   "metadata": {},
   "source": [
    "### 4. What is the value of spam[-1]?\n",
    "d"
   ]
  },
  {
   "cell_type": "markdown",
   "id": "a5cf745c",
   "metadata": {},
   "source": [
    "### 5. What is the value of spam[:2]?\n",
    "This is index slicing takes from spam[0] to spam[1] by excluding spam[2]"
   ]
  },
  {
   "cell_type": "code",
   "execution_count": 9,
   "id": "f08d8f85",
   "metadata": {},
   "outputs": [
    {
     "data": {
      "text/plain": [
       "['a', 'b']"
      ]
     },
     "execution_count": 9,
     "metadata": {},
     "output_type": "execute_result"
    }
   ],
   "source": [
    "spam[:2]"
   ]
  },
  {
   "cell_type": "markdown",
   "id": "adc0d8b2",
   "metadata": {},
   "source": [
    "## Let's pretend bacon has the list [3.14, 'cat,' 11, 'cat,' True] for the next three questions."
   ]
  },
  {
   "cell_type": "code",
   "execution_count": 12,
   "id": "f961c6cc",
   "metadata": {},
   "outputs": [],
   "source": [
    "bacon=[3.14, 'cat', 11, 'cat', True]"
   ]
  },
  {
   "cell_type": "markdown",
   "id": "df40348b",
   "metadata": {},
   "source": [
    "### 6. What is the value of bacon.index('cat')?\n",
    "1"
   ]
  },
  {
   "cell_type": "code",
   "execution_count": 13,
   "id": "f3ffdc1c",
   "metadata": {},
   "outputs": [
    {
     "data": {
      "text/plain": [
       "1"
      ]
     },
     "execution_count": 13,
     "metadata": {},
     "output_type": "execute_result"
    }
   ],
   "source": [
    "bacon.index('cat')"
   ]
  },
  {
   "cell_type": "markdown",
   "id": "8a61e1e3",
   "metadata": {},
   "source": [
    "### 7. How does bacon.append(99) change the look of the list value in bacon?\n",
    "[3.14, 'cat', 11, 'cat', True,99]"
   ]
  },
  {
   "cell_type": "code",
   "execution_count": 14,
   "id": "f19dc294",
   "metadata": {},
   "outputs": [],
   "source": [
    "bacon.append(99)"
   ]
  },
  {
   "cell_type": "code",
   "execution_count": 15,
   "id": "aa7568fd",
   "metadata": {},
   "outputs": [
    {
     "data": {
      "text/plain": [
       "[3.14, 'cat', 11, 'cat', True, 99]"
      ]
     },
     "execution_count": 15,
     "metadata": {},
     "output_type": "execute_result"
    }
   ],
   "source": [
    "bacon"
   ]
  },
  {
   "cell_type": "markdown",
   "id": "61730fe9",
   "metadata": {},
   "source": [
    "### 8. How does bacon.remove('cat') change the look of the list in bacon?\n",
    "[3.14, 11, 'cat', True, 99]"
   ]
  },
  {
   "cell_type": "code",
   "execution_count": 16,
   "id": "8ecbd42c",
   "metadata": {},
   "outputs": [
    {
     "data": {
      "text/plain": [
       "[3.14, 11, 'cat', True, 99]"
      ]
     },
     "execution_count": 16,
     "metadata": {},
     "output_type": "execute_result"
    }
   ],
   "source": [
    "bacon.remove('cat')\n",
    "bacon"
   ]
  },
  {
   "cell_type": "markdown",
   "id": "8e561d91",
   "metadata": {},
   "source": [
    "### 9. What are the list concatenation and list replication operators?\n",
    "we use + operator for list concatenation and for list replication process, we use list_name.copy() method"
   ]
  },
  {
   "cell_type": "code",
   "execution_count": 17,
   "id": "2e1c5d4f",
   "metadata": {},
   "outputs": [
    {
     "data": {
      "text/plain": [
       "['a', 'b', 'c', 'd']"
      ]
     },
     "execution_count": 17,
     "metadata": {},
     "output_type": "execute_result"
    }
   ],
   "source": [
    "spam_dupe = spam.copy()\n",
    "spam_dupe"
   ]
  },
  {
   "cell_type": "markdown",
   "id": "abdbff8b",
   "metadata": {},
   "source": [
    "### 10. What is difference between the list methods append() and insert()?\n",
    "Append() adds the value only at the end of the given list.\n",
    "insert() adds the value in the specific index of the list"
   ]
  },
  {
   "cell_type": "markdown",
   "id": "fa90a1d2",
   "metadata": {},
   "source": [
    "### 11. What are the two methods for removing items from a list?\n",
    "pop() and remove()"
   ]
  },
  {
   "cell_type": "markdown",
   "id": "34b1822d",
   "metadata": {},
   "source": [
    "### 12. Describe how list values and string values are identical.\n",
    "lists are a collection of series of elements and the strings are a collection of series of characters"
   ]
  },
  {
   "cell_type": "markdown",
   "id": "ec3c1591",
   "metadata": {},
   "source": [
    "### 13. What's the difference between tuples and lists?\n",
    "The primary difference is that tuples are immutable and the lists are mutable"
   ]
  },
  {
   "cell_type": "markdown",
   "id": "4fabeef6",
   "metadata": {},
   "source": [
    "### 14. How do you type a tuple value that only contains the integer 42?\n",
    "(42,)"
   ]
  },
  {
   "cell_type": "markdown",
   "id": "582f8cff",
   "metadata": {},
   "source": [
    "### 15. How do you get a list value's tuple form? How do you get a tuple value's list form?\n"
   ]
  },
  {
   "cell_type": "code",
   "execution_count": 18,
   "id": "719f478c",
   "metadata": {},
   "outputs": [],
   "source": [
    "list1=[1,2,3,4]"
   ]
  },
  {
   "cell_type": "code",
   "execution_count": 19,
   "id": "7ca4f4a4",
   "metadata": {},
   "outputs": [],
   "source": [
    "tuple1 = tuple(list1)"
   ]
  },
  {
   "cell_type": "code",
   "execution_count": 20,
   "id": "9da4516c",
   "metadata": {},
   "outputs": [
    {
     "data": {
      "text/plain": [
       "(1, 2, 3, 4)"
      ]
     },
     "execution_count": 20,
     "metadata": {},
     "output_type": "execute_result"
    }
   ],
   "source": [
    "tuple1"
   ]
  },
  {
   "cell_type": "code",
   "execution_count": 25,
   "id": "b02673e5",
   "metadata": {},
   "outputs": [],
   "source": [
    "t1=('a','b',3,4)"
   ]
  },
  {
   "cell_type": "code",
   "execution_count": 22,
   "id": "a43ac497",
   "metadata": {},
   "outputs": [],
   "source": [
    "l1=list(t1)"
   ]
  },
  {
   "cell_type": "code",
   "execution_count": 23,
   "id": "541961bc",
   "metadata": {},
   "outputs": [
    {
     "data": {
      "text/plain": [
       "['a', 'b', 3, 4]"
      ]
     },
     "execution_count": 23,
     "metadata": {},
     "output_type": "execute_result"
    }
   ],
   "source": [
    "l1"
   ]
  },
  {
   "cell_type": "markdown",
   "id": "a372966c",
   "metadata": {},
   "source": [
    "### 16. Variables that \"contain\" list values are not necessarily lists themselves. Instead, what do they contain?\n",
    "They can be tuples, dictionaries, nested lists"
   ]
  },
  {
   "cell_type": "markdown",
   "id": "ec9c2516",
   "metadata": {},
   "source": [
    "### 17. How do you distinguish between copy.copy() and copy.deepcopy()?"
   ]
  },
  {
   "cell_type": "code",
   "execution_count": 32,
   "id": "07ab1a0f",
   "metadata": {},
   "outputs": [
    {
     "name": "stdout",
     "output_type": "stream",
     "text": [
      "[[1, 2, 3], [4, 5, 100]]\n",
      "[[1, 2, 3], [4, 5, 100]]\n"
     ]
    }
   ],
   "source": [
    "from copy import copy, deepcopy\n",
    "l1=[[1,2,3],[4,5,6]]\n",
    "l2 = l1.copy()\n",
    "l2[1][2] = 100\n",
    "print(l2)\n",
    "print(l1)"
   ]
  },
  {
   "cell_type": "code",
   "execution_count": 34,
   "id": "1d3848a9",
   "metadata": {},
   "outputs": [
    {
     "name": "stdout",
     "output_type": "stream",
     "text": [
      "[[1, 2, 3], [4, 5, 100]]\n",
      "[[1, 2, 3], [4, 5, 6]]\n"
     ]
    }
   ],
   "source": [
    "from copy import copy, deepcopy\n",
    "l1=[[1,2,3],[4,5,6]]\n",
    "l2 = deepcopy(l1)\n",
    "l2[1][2] = 100\n",
    "print(l2)\n",
    "print(l1)"
   ]
  },
  {
   "cell_type": "markdown",
   "id": "fe70240f",
   "metadata": {},
   "source": [
    "we can find the difference between the two copies only incase of compound objects.\n",
    "A shallow copy does makes the changes to the origianl list when changes are done to the newly copied list\n",
    "A deep copy doesn't makes the changes to the origianl list when changes are done to the newly copied list"
   ]
  },
  {
   "cell_type": "code",
   "execution_count": null,
   "id": "93b8d874",
   "metadata": {},
   "outputs": [],
   "source": []
  }
 ],
 "metadata": {
  "kernelspec": {
   "display_name": "Python 3 (ipykernel)",
   "language": "python",
   "name": "python3"
  },
  "language_info": {
   "codemirror_mode": {
    "name": "ipython",
    "version": 3
   },
   "file_extension": ".py",
   "mimetype": "text/x-python",
   "name": "python",
   "nbconvert_exporter": "python",
   "pygments_lexer": "ipython3",
   "version": "3.9.7"
  }
 },
 "nbformat": 4,
 "nbformat_minor": 5
}
