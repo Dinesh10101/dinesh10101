{
 "cells": [
  {
   "cell_type": "markdown",
   "id": "264d17e8",
   "metadata": {},
   "source": [
    "1. In the below elements which of them are values or an expression? eg:- values can be integer or string and expressions will be mathematical operators.\n",
    "* \n",
    "'hello'\n",
    "-87.8\n",
    "- \n",
    "/ \n",
    "\n",
    "\n",
    "6 \n",
    "\n",
    "Ans: 'hello', -87.8 and 6 are values and *, -,/ are the mathematical operators\n"
   ]
  },
  {
   "cell_type": "markdown",
   "id": "aff4cf8f",
   "metadata": {},
   "source": [
    "2. What is the difference between string and variable?\n",
    "Ans: string is one of the data types and variable is a store of the data "
   ]
  },
  {
   "cell_type": "markdown",
   "id": "e68cf7b9",
   "metadata": {},
   "source": [
    "3. Describe three different data types.\n",
    "Ans: Integer, float, strings"
   ]
  },
  {
   "cell_type": "markdown",
   "id": "07cd0742",
   "metadata": {},
   "source": [
    "4. What is an expression made up of? What do all expressions do?\n",
    "Ans: expression could be a collection of variables and the operators through which we can obtain a value finally"
   ]
  },
  {
   "cell_type": "markdown",
   "id": "445975bc",
   "metadata": {},
   "source": [
    "5. This assignment statements, like spam = 10. What is the difference between an expression and a statement?\n",
    "Ans: Statement does some activity like assignment statement, print statements. Expression is a collection of variables and the operators through which we can obtain a value finally"
   ]
  },
  {
   "cell_type": "markdown",
   "id": "bfc1aaf8",
   "metadata": {},
   "source": [
    "6. After running the following code, what does the variable bacon contain?\n",
    "bacon = 22\n",
    "bacon + 1\n",
    "Ans: 22"
   ]
  },
  {
   "cell_type": "markdown",
   "id": "3fecbe8f",
   "metadata": {},
   "source": [
    "7. What should the values of the following two terms be?\n",
    "'spam' + 'spamspam'\n",
    "'spam' * 3\n",
    "Ans: 'spamspamspam'\n",
    "     'spamspamspam'"
   ]
  },
  {
   "cell_type": "markdown",
   "id": "40becedc",
   "metadata": {},
   "source": [
    "8. Why is eggs a valid variable name while 100 is invalid?\n",
    "Ans: any variable starting with characters is valid and anything starting with digits is not valid"
   ]
  },
  {
   "cell_type": "markdown",
   "id": "b52938ac",
   "metadata": {},
   "source": [
    "9. What three functions can be used to get the integer, floating-point number, or string version of a value?\n",
    "Ans: for integer we can use int(numerical value/numerical variable)\n",
    "     for string, we can use str(value/variable)\n",
    "     for string, we can use str(interger value/integer variable)"
   ]
  },
  {
   "cell_type": "markdown",
   "id": "4d49e639",
   "metadata": {},
   "source": [
    "10. Why does this expression cause an error? How can you fix it?\n",
    "'I have eaten ' + 99 + ' burritos.'\n",
    "Ans: a string can't be concatenated with an interger\n",
    "     in order to fix it, we can use 'I have eaten ' + str(99) + ' burritos.'"
   ]
  }
 ],
 "metadata": {
  "kernelspec": {
   "display_name": "Python 3 (ipykernel)",
   "language": "python",
   "name": "python3"
  },
  "language_info": {
   "codemirror_mode": {
    "name": "ipython",
    "version": 3
   },
   "file_extension": ".py",
   "mimetype": "text/x-python",
   "name": "python",
   "nbconvert_exporter": "python",
   "pygments_lexer": "ipython3",
   "version": "3.9.7"
  }
 },
 "nbformat": 4,
 "nbformat_minor": 5
}
